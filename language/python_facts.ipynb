{
 "cells": [
  {
   "cell_type": "markdown",
   "id": "1b0cee84",
   "metadata": {},
   "source": [
    "# Interesting facts about Python\n",
    "- - -\n",
    "author: Kevin Shuey  \n",
    "title: Structure and Interpretation of Computer Programs  \n",
    "date: 2023-05-26  \n",
    "- - -"
   ]
  },
  {
   "cell_type": "markdown",
   "id": "624f04bd",
   "metadata": {},
   "source": [
    "* Arithmetric operator"
   ]
  },
  {
   "cell_type": "code",
   "execution_count": 1,
   "id": "27080db5",
   "metadata": {},
   "outputs": [
    {
     "name": "stdout",
     "output_type": "stream",
     "text": [
      "Hello World\n",
      "Can't use '+' between integers and strings.\n",
      "Hello!Hello!\n",
      "Hello!Hello!\n",
      "9\n",
      "0.6666666666666666\n",
      "0\n",
      "-1\n",
      "2\n",
      "1\n",
      "El Psy Congroo\n",
      "\n",
      "l\n"
     ]
    }
   ],
   "source": [
    "#Arithmetic Operators\n",
    "\n",
    "# \"+\"\n",
    "print(\"Hello\"+\" \"+\"World\")\n",
    "try:\n",
    "    print(2+\"Hello\") # Is expected to throw an error.\n",
    "except:\n",
    "    print(\"Can't use '+' between integers and strings.\")\n",
    "\n",
    "# \"*\"\n",
    "print(2*\"Hello!\")\n",
    "print(\"Hello!\"*2)\n",
    "print(3**2) # Exponent\n",
    "\n",
    "# \"/\"\n",
    "print(2/3) # In most languages, it should be 0 instead of 0.666...\n",
    "print(2//3)  # Floor division\n",
    "print(-2//3) # -1. That's the meaning of \"floor\".\n",
    "print(2%3) # Remainder\n",
    "print(-2%3) # -2/3 = -1...1\n",
    "\n",
    "# [] and [:] : slice.\n",
    "myStr = \"El Psy Congroo\"\n",
    "print(myStr[0:100]) # The index starts from 0.\n",
    "print(myStr[5:0]) # Order matters.\n",
    "print(myStr[1:2]) # [left:right], including \"left\" but excluding \"right\".\n",
    "\n",
    "# Others\n",
    "x = 1\n",
    "x += 1 # x = x + 1"
   ]
  },
  {
   "cell_type": "markdown",
   "id": "6d146504",
   "metadata": {},
   "source": [
    "* Evaluation"
   ]
  },
  {
   "cell_type": "code",
   "execution_count": 1,
   "id": "9f9b4799",
   "metadata": {},
   "outputs": [
    {
     "name": "stdout",
     "output_type": "stream",
     "text": [
      "3\n",
      "8\n",
      "a+aa\n",
      "aaa\n",
      "True\n",
      "Please input something here to make the program function: def someFunc(): pass\n"
     ]
    },
    {
     "data": {
      "text/plain": [
       "''"
      ]
     },
     "execution_count": 1,
     "metadata": {},
     "output_type": "execute_result"
    }
   ],
   "source": [
    "# Evaluation Function\n",
    "# String-based expression -> The return value of the given expresssion\n",
    "# Expression is a piece of syntax which can return a value.\n",
    "# In a nutshell, it is something you will put on the RHS of a \"=\".\n",
    "\n",
    "# Math expressions \n",
    "a = 1\n",
    "aa = 2\n",
    "aaa = 8\n",
    "\n",
    "print(eval('a+aa'))\n",
    "print(eval('a'+'aa'))\n",
    "\n",
    "print('a+aa')\n",
    "print('a'+'aa')\n",
    "\n",
    "\n",
    "#Boolean expressions\n",
    "print(eval(\"5+7 == 12\"))\n",
    "\n",
    "\n",
    "# General-Purpose Expressions\n",
    "eval(\"input('Please input something here to make the program function: ')\")\n",
    "\n",
    "# Eval requires expressions as the argument.\n",
    "# You won't put the following stuff on the RHS of a \"=\".\n",
    "# Similarly, you shouldn't put them in eval().\n",
    "# The results of all the following statements are \"Syntax Error\".\n",
    "try:\n",
    "    eval(\"pi = 3.14159\") \n",
    "    eval(\"if True: print(2)\")\n",
    "    eval(\"while True: print(1)\")\n",
    "    eval(\"def someFunc(): pass\")\n",
    "except:\n",
    "    pass\n",
    "\n",
    "# Security issues about eval(input())\n",
    "# eval() allows users to input and execute arbitraty expressions.\n",
    "# Malicious inputs can lead to disastrous results.\n",
    "\n",
    "eval(\"exit()\") # This will exit the program. No following codes will be executed.\n",
    "\n",
    "# Do NOT try to imitate the following actions on your computer!!!\n",
    "eval(\"__import__('subprocess').getoutput('cd')\") # e.g., rm -rf /* to delete all the files in your current directory.\n"
   ]
  },
  {
   "cell_type": "markdown",
   "id": "3c3833f3",
   "metadata": {},
   "source": [
    "* Input"
   ]
  },
  {
   "cell_type": "code",
   "execution_count": 1,
   "id": "2a105ea8",
   "metadata": {},
   "outputs": [
    {
     "name": "stdout",
     "output_type": "stream",
     "text": [
      "Please input a number: 33\n",
      "<class 'str'>\n"
     ]
    }
   ],
   "source": [
    "# Input Function\n",
    "\n",
    "userInput = input(\"Please input a number: \") # Use the __prompt parameter to prompt the input.\n",
    "print(type(userInput)) # Any input will be considered as a string, even when you input a integer.\n"
   ]
  },
  {
   "cell_type": "markdown",
   "id": "4a7ca74f",
   "metadata": {},
   "source": [
    "* Print"
   ]
  },
  {
   "cell_type": "code",
   "execution_count": 2,
   "id": "9d1d30d8",
   "metadata": {},
   "outputs": [
    {
     "name": "stdout",
     "output_type": "stream",
     "text": [
      "Good evening!\n",
      "El Psy Congroo and Ich Liebe Dich.\n",
      "El Psy Congroo with Ich Liebe Dich.\n",
      "El Psy Congroo plus Ich Liebe Dich.\n",
      "5              56\n",
      "3.14    \n",
      "00005\n"
     ]
    }
   ],
   "source": [
    "# Print Function\n",
    "\n",
    "print('Good evening!',sep=' ',end = '\\n')\n",
    "\n",
    "# Formatted output: 3 ways.\n",
    "stat1 = \"El Psy Congroo\"\n",
    "stat2 = \"Ich Liebe Dich\"\n",
    "\n",
    "print(\"%s and %s.\" %(stat1,stat2))\n",
    "print(\"{} with {}.\".format(stat1,stat2))\n",
    "print(f\"{stat1} plus {stat2}.\")\n",
    "\n",
    "# More about formatting...\n",
    "print(\"%-8d\" %5, end = '')\n",
    "print(\"%8d\" %5, end = '')\n",
    "print(6)\n",
    "\n",
    "print(\"%-8.2f\" %3.14159)\n",
    "print(\"%.5d\" %5)"
   ]
  },
  {
   "cell_type": "markdown",
   "id": "939882c2",
   "metadata": {},
   "source": [
    "* Variables"
   ]
  },
  {
   "cell_type": "code",
   "execution_count": 3,
   "id": "6a8164ad",
   "metadata": {},
   "outputs": [
    {
     "name": "stdout",
     "output_type": "stream",
     "text": [
      "<class 'int'>\n",
      "<class 'float'>\n",
      "<class 'str'>\n",
      "<class 'bool'>\n",
      "<class 'tuple'>\n",
      "<class 'list'>\n",
      "<class 'dict'>\n"
     ]
    }
   ],
   "source": [
    "# This file is to demonstrate some basic points about variables.\n",
    "\n",
    "# Type of variables.\n",
    "myInt = 2\n",
    "myFlt = 2.0\n",
    "myStr = 'El Psy Congroo'\n",
    "myBool = True\n",
    "\n",
    "myTuple = (1,2,3)  # Generally speaking, values in a tuple can't be changed.\n",
    "myList = [1,2,3]\n",
    "myDict = {1:'a',2:'b'} # Key : Value\n",
    "\n",
    "def ShowType(a):\n",
    "    print(type(a))\n",
    "\n",
    "ShowType(myInt)\n",
    "ShowType(myFlt)\n",
    "ShowType(myStr)\n",
    "ShowType(myBool)\n",
    "ShowType(myTuple)\n",
    "ShowType(myList)\n",
    "ShowType(myDict)\n",
    "\n",
    "\n"
   ]
  },
  {
   "cell_type": "markdown",
   "id": "b39ac29f",
   "metadata": {},
   "source": [
    "* Debugging"
   ]
  },
  {
   "cell_type": "code",
   "execution_count": 4,
   "id": "975b9464",
   "metadata": {},
   "outputs": [],
   "source": [
    "# If you can't write a correct program...\n",
    "# At least you should know how to find your mistake.\n",
    "\n",
    "# For your reference: https://code.visualstudio.com/docs/python/debugging"
   ]
  },
  {
   "cell_type": "markdown",
   "id": "3b82039e",
   "metadata": {},
   "source": [
    "* Functions"
   ]
  },
  {
   "cell_type": "code",
   "execution_count": 5,
   "id": "cb3667cd",
   "metadata": {},
   "outputs": [],
   "source": [
    "# Why do we use functions?\n",
    "# Because we want abstraction.\n",
    "\n",
    "# We bind names to values. This is a kind of abstraction.\n",
    "PI = 3.1415926\n",
    "name = \"Eric\"\n",
    "\n",
    "# We bind names to a series of operations. This is a powerful approach of abstraction.\n",
    "# And this is the function.\n",
    "def func():\n",
    "    # A series of operations here.\n",
    "    return\n"
   ]
  },
  {
   "cell_type": "markdown",
   "id": "3ef95c32",
   "metadata": {},
   "source": [
    "* Basic definition"
   ]
  },
  {
   "cell_type": "code",
   "execution_count": 6,
   "id": "77706223",
   "metadata": {},
   "outputs": [
    {
     "name": "stdout",
     "output_type": "stream",
     "text": [
      "<function myFunc at 0x105364860>\n",
      "1\n",
      "None\n"
     ]
    }
   ],
   "source": [
    "# Basic template to define a function.\n",
    "def myFunc(myPar):\n",
    "    return 1\n",
    "\n",
    "def voidFunc(myPar):\n",
    "    pass\n",
    "\n",
    "# Remember to CALL the function!!!\n",
    "print(myFunc) # This is definitely not what you want.\n",
    "\n",
    "print(myFunc(1)) # 1\n",
    "print(voidFunc(1)) # None"
   ]
  },
  {
   "cell_type": "markdown",
   "id": "3ed7bf01",
   "metadata": {},
   "source": [
    "* Return value"
   ]
  },
  {
   "cell_type": "code",
   "execution_count": 7,
   "id": "ce95c914",
   "metadata": {},
   "outputs": [
    {
     "name": "stdout",
     "output_type": "stream",
     "text": [
      "2\n",
      "2\n"
     ]
    }
   ],
   "source": [
    "# What is a return value?\n",
    "# A function is a block of statements.\n",
    "# The program executes codes line by line.\n",
    "# When a function is invoked, the program hangs up,\n",
    "# and turns to the execution of the function.\n",
    "# After executing the function, \n",
    "# it leaves a return value at its place.\n",
    "\n",
    "def myFunc():\n",
    "    return 2\n",
    "\n",
    "print(myFunc())\n",
    "# Equivalently, use the return value to replace the function's position.\n",
    "print(2)\n",
    "\n"
   ]
  },
  {
   "cell_type": "markdown",
   "id": "dc0835fd",
   "metadata": {},
   "source": [
    "* Elegant function"
   ]
  },
  {
   "cell_type": "code",
   "execution_count": 8,
   "id": "6100d3e0",
   "metadata": {},
   "outputs": [
    {
     "name": "stdout",
     "output_type": "stream",
     "text": [
      "<class 'function'>\n"
     ]
    },
    {
     "data": {
      "text/plain": [
       "'?'"
      ]
     },
     "execution_count": 8,
     "metadata": {},
     "output_type": "execute_result"
    }
   ],
   "source": [
    "# Annotating the expected type of parameters and return value.\n",
    "# Just to make your functions look elegant.\n",
    "# It has no syntactic meaning.\n",
    "\n",
    "# For your reference:https://peps.python.org/pep-0484/\n",
    "def myFunc(myPar : str) -> bool: \n",
    "    # do something here\n",
    "    return \"?\"  # return something here. The return value doesn't have to abide by the annotation.\n",
    "\n",
    "print(type(myFunc))\n",
    "myFunc(2333) # Likewise, the argument doesn't have to follow the annotation either."
   ]
  },
  {
   "cell_type": "markdown",
   "id": "5c834e97",
   "metadata": {},
   "source": [
    "* Parameter 1"
   ]
  },
  {
   "cell_type": "code",
   "execution_count": 9,
   "id": "829afeeb",
   "metadata": {},
   "outputs": [
    {
     "name": "stdout",
     "output_type": "stream",
     "text": [
      "Par1: 1\n",
      "Par2: 2\n",
      "Args are: 3|4|5|\n",
      " {'a': 6, 'b': 7}\n",
      "15\n",
      "Basic Information: Eric, Unknown, 29.\n",
      "Extra Information: {'favorite_color': 'blue'}\n"
     ]
    }
   ],
   "source": [
    "def myFunc(par1,par2 = \"myStr\",*args,**kwargs):\n",
    "\n",
    "    print(f\"Par1: {par1}\")\n",
    "    print(f\"Par2: {par2}\") # Default parameter. With no value passed, it will be set to the default value.\n",
    "\n",
    "    print(\"Args are: \",end = '') # Non keyword Arguments. Passed by values.\n",
    "    for i in args:\n",
    "        print(i,end = \"|\")\n",
    "\n",
    "    print(\"\\n\",kwargs) # Keyword Arguments. Passed with keywords, similar to a dictionary.\n",
    "\n",
    "\n",
    "# Your arguments should look like this：\n",
    "myFunc(1,2,3,4,5,a=6,b=7)\n",
    "\n",
    "\n",
    "# Examples\n",
    "# 1. Add up all numbers given, no matter how many numbers are input.\n",
    "def sumOfAnyNumbers(*args): \n",
    "    result = 0\n",
    "    for i in args:\n",
    "        result += i\n",
    "    return result\n",
    "print(sumOfAnyNumbers(1,2,3,4,5))\n",
    "\n",
    "# 2. Record the information of the user. The user can input some extra information.\n",
    "def getInfo(name,gender,age,**kwargs):\n",
    "    print(f\"Basic Information: {name}, {gender}, {age}.\")\n",
    "    print(f\"Extra Information: {kwargs}\")\n",
    "getInfo(\"Eric\",\"Unknown\",2^32-1, favorite_color = \"blue\")\n",
    "\n"
   ]
  },
  {
   "cell_type": "code",
   "execution_count": 10,
   "id": "945f0323",
   "metadata": {},
   "outputs": [
    {
     "name": "stdout",
     "output_type": "stream",
     "text": [
      "Myfunction is invoked.\n",
      "233\n"
     ]
    }
   ],
   "source": [
    "# What can be passed by parameters?\n",
    "# Any object!\n",
    "# e.g., you can pass a function as an arugument.\n",
    "def myFunc1():\n",
    "    print(\"Myfunction is invoked.\")\n",
    "\n",
    "def func1(func) -> None:\n",
    "    func()\n",
    "\n",
    "func1(myFunc1)\n",
    "\n",
    "# What if the function has some parameters?\n",
    "def myFunc2(myPara):\n",
    "    print(myPara)\n",
    "\n",
    "def func2(func,myInput) -> None:\n",
    "    func(myInput)\n",
    "\n",
    "func2(myFunc2,233)"
   ]
  },
  {
   "cell_type": "markdown",
   "id": "cba09c28",
   "metadata": {},
   "source": [
    "* Reference and value"
   ]
  },
  {
   "cell_type": "code",
   "execution_count": 11,
   "id": "fcf32c8f",
   "metadata": {},
   "outputs": [
    {
     "name": "stdout",
     "output_type": "stream",
     "text": [
      "I changed the value of the input!: 10\n",
      "Did I really change it?: 2\n",
      "42\n"
     ]
    }
   ],
   "source": [
    "# Passed by reference or by value?\n",
    "\n",
    "# Passed by values,\n",
    "# E.g., immutable objects...\n",
    "def changeValue(a):\n",
    "    a += 1\n",
    "    a = 10\n",
    "    print(f\"I changed the value of the input!: {a}\")\n",
    "\n",
    "myInt = 2\n",
    "changeValue(myInt)\n",
    "print(f\"Did I really change it?: {myInt}\")\n",
    "\n",
    "# The real method to change the value\n",
    "def changeRealValue():\n",
    "    global myInt\n",
    "    myInt = 42\n",
    "    print(myInt)\n",
    "changeRealValue()\n",
    "\n",
    "# Passed by reference\n",
    "# You may review it after learning \"list\".\n",
    "def changeList(l):\n",
    "    l.append(\"change1\")\n",
    "    l += [\"change2\"]\n",
    "    l = \"Nothing!\"\n",
    "    return l\n",
    "# myList = [0]\n",
    "# changeList(myList)\n",
    "# print(myList)"
   ]
  },
  {
   "cell_type": "markdown",
   "id": "551f09b3",
   "metadata": {},
   "source": [
    "* Other defined methods"
   ]
  },
  {
   "cell_type": "code",
   "execution_count": 12,
   "id": "2c774177",
   "metadata": {},
   "outputs": [
    {
     "name": "stdout",
     "output_type": "stream",
     "text": [
      "0\n",
      "1\n",
      "4\n",
      "9\n",
      "16\n",
      "1.9999999999999998\n"
     ]
    }
   ],
   "source": [
    "# Lambda/Anonymous function\n",
    "func = lambda x: x**2\n",
    "\n",
    "# Equivalently:\n",
    "def func1(x):\n",
    "    return x**2\n",
    "\n",
    "for i in (0,1,2,3,4):\n",
    "    print(func(i))\n",
    "\n",
    "\n",
    "# Partial function\n",
    "from functools import partial\n",
    "from math import e, log\n",
    "\n",
    "def power(exp,base): # Put the parameter that you are going to fix at the latter position.\n",
    "    return base**exp\n",
    "\n",
    "exponential = partial(power,base=e)\n",
    "print(exponential(log(2)))"
   ]
  },
  {
   "cell_type": "markdown",
   "id": "cfba0c12",
   "metadata": {},
   "source": [
    "* Overload"
   ]
  },
  {
   "cell_type": "code",
   "execution_count": 13,
   "id": "e6320465",
   "metadata": {},
   "outputs": [
    {
     "name": "stdout",
     "output_type": "stream",
     "text": [
      "1 is an integer.\n",
      "Hello, World! is a string.\n",
      "The elements in the given list or tuple: 3 2 1 \n",
      "The elements in the given list or tuple: 1 5 10 \n",
      "The <function <lambda> at 0x105365800> is in <class 'function'>\n"
     ]
    }
   ],
   "source": [
    "# Enabling a function to handle different types of input.\n",
    "# For your reference: https://peps.python.org/pep-0443/\n",
    "\n",
    "from functools import singledispatch\n",
    "\n",
    "@singledispatch\n",
    "def demonstrate(obj : object) -> None:\n",
    "    print(f\"The {obj} is in {type(obj)}\")\n",
    "\n",
    "@demonstrate.register(int)\n",
    "def _(obj):\n",
    "    print(\"%d is an integer.\" %obj)\n",
    "\n",
    "@demonstrate.register(str)\n",
    "def _(obj):\n",
    "    print(\"%s is a string.\" %obj)\n",
    "\n",
    "@demonstrate.register(list)\n",
    "@demonstrate.register(tuple)\n",
    "def _(obj):\n",
    "    print(\"The elements in the given list or tuple: \", end = \"\")\n",
    "    for i in obj:\n",
    "        print(i,end=\" \")\n",
    "    print()\n",
    "\n",
    "myInt = 1\n",
    "myStr = \"Hello, World!\"\n",
    "myList = [3,2,1]\n",
    "myTuple = (1,5,10)\n",
    "myObj = lambda x: x**2\n",
    "\n",
    "demonstrate(myInt)\n",
    "demonstrate(myStr)\n",
    "demonstrate(myList)\n",
    "demonstrate(myTuple)\n",
    "demonstrate(myObj)"
   ]
  },
  {
   "cell_type": "markdown",
   "id": "9fa874e7",
   "metadata": {},
   "source": [
    "* Outline"
   ]
  },
  {
   "cell_type": "code",
   "execution_count": 14,
   "id": "6e88aa15",
   "metadata": {},
   "outputs": [
    {
     "name": "stdout",
     "output_type": "stream",
     "text": [
      "[3, 2]\n",
      "----------------------------\n",
      "[1]\n",
      "[1, 1]\n",
      "[1, 1, 1]\n",
      "----------------------------\n",
      "[1, 2] 1\n",
      "----------------------------\n",
      "An Error has happened!\n",
      "(1, 2, [3, 4])\n"
     ]
    }
   ],
   "source": [
    "# I hope you can understand the following codes after the tutorial.\n",
    "# If you already know all of them, then you may not come to this tutorial.\n",
    "\n",
    "# 1. Slicing\n",
    "# How does this work?\n",
    "l = [1,2,3]\n",
    "print(l[-1:0:-1])\n",
    "\n",
    "print(\"----------------------------\")\n",
    "\n",
    "# 2. Memory\n",
    "# Why are the outputs different?\n",
    "def func(l = []): # Default parameter\n",
    "    l += [1]\n",
    "    print(l)\n",
    "for i in range(3):\n",
    "    func()\n",
    "\n",
    "print(\"----------------------------\")\n",
    "\n",
    "# 3. Assignment to a \"reference\"(Not a real reference) - 1\n",
    "# Why l is changed while a is not?\n",
    "def func(l : list,i : int):\n",
    "    l += [2]\n",
    "    i += 1\n",
    "l = [1]\n",
    "a = 1\n",
    "func(l,a)\n",
    "print(l,a)\n",
    "\n",
    "print(\"----------------------------\")\n",
    "\n",
    "# 4. Assignment to a \"reference\" - 2\n",
    "# Why the tuple is changed, and why it throws an error?\n",
    "t = (1,2,[3])\n",
    "try:\n",
    "    t[2] += [4]\n",
    "except:\n",
    "    print(\"An Error has happened!\")\n",
    "print(t)"
   ]
  },
  {
   "cell_type": "markdown",
   "id": "2535fd69",
   "metadata": {},
   "source": [
    "* Slice"
   ]
  },
  {
   "cell_type": "code",
   "execution_count": 15,
   "id": "8f6e3bc1",
   "metadata": {},
   "outputs": [
    {
     "name": "stdout",
     "output_type": "stream",
     "text": [
      "[0, 1, 2, 3, 4]\n",
      "[0, 1, 2, 3, 4]\n",
      "[0, 1, 2, 3]\n",
      "[0, 2, 4]\n",
      "[0, 2, 4]\n",
      "--------------------------------------------\n",
      "[0, 1, 2, 3]\n",
      "[0]\n",
      "[]\n",
      "[0]\n",
      "[4, 3, 2, 1]\n",
      "[]\n",
      "-------------------2-------------------------\n",
      "[]\n",
      "-------------------3-------------------------\n"
     ]
    }
   ],
   "source": [
    "# How to slice a list.\n",
    "\n",
    "myList = [0,1,2,3,4]\n",
    "\n",
    "print(myList[:]) # What will be printed?\n",
    "print(myList[-10000:10000]) # Is this valid? An out of range error, or some output?\n",
    "print(myList[0:4]) # Will the element with index 4 be output? \n",
    "\n",
    "print(myList[0:5:2]) # How to understand this?\n",
    "# Understand the above line in this way:\n",
    "i = 0\n",
    "newList = []\n",
    "while (i < 5):\n",
    "    newList.append(myList[i])\n",
    "    i += 2\n",
    "print(newList)\n",
    "\n",
    "print(\"--------------------------------------------\")\n",
    "# Now, let's introduce negative index.\n",
    "# Which could make your code really hard to understand...\n",
    "# I'm so sorry that you have to apprehend these annoying usage...\n",
    "\n",
    "# My list: [0,1,2,3,4]\n",
    "# Index1:  [-5,-4,-3,-2,-1]\n",
    "# Index2:  [ 0, 1, 2, 3, 4]\n",
    "# Two ways to mark the indices of the elements!\n",
    "print(myList[-5:-1]) # What is the element with index -5 and -1? Are they included?\n",
    "\n",
    "print(myList[-5:1]) # What's the ouput?\n",
    "print(myList[0:-6]) # -6 is smaller than 0! Is there any output?\n",
    "print(myList[0:-4]) # What about this?\n",
    "\n",
    "# Slicing in reverse order\n",
    "print(myList[4:0:-1]) # Is the element with index 0 included?\n",
    "\n",
    "# Question: how to get the first element of the list in such cases?\n",
    "print(myList[4:-1:-1]) # Can we do this?\n",
    "# What should we do?\n",
    "\n",
    "print(\"-------------------2-------------------------\")\n",
    "# The most difficult part, in my view.\n",
    "# print(myList[0:-6:-1]) # Any output?\n",
    "print(myList[0:-4:-1]) # What about this one?\n",
    "\n",
    "print(\"-------------------3-------------------------\")\n",
    "# Some wierd thoughts.\n",
    "# print(myList[0:5:0])  Error: Slice step cannot be zero.\n",
    "\n",
    "\n"
   ]
  },
  {
   "cell_type": "markdown",
   "id": "ef48ce1e",
   "metadata": {},
   "source": [
    "* Elegant lists"
   ]
  },
  {
   "cell_type": "code",
   "execution_count": 16,
   "id": "7c59a78d",
   "metadata": {},
   "outputs": [
    {
     "name": "stdout",
     "output_type": "stream",
     "text": [
      "4382214784\n",
      "4382214784\n"
     ]
    }
   ],
   "source": [
    "# \"List\" in c++...\n",
    "\n",
    "# Array.\n",
    "Array = [1,2,3]\n",
    "\n",
    "# 1. Out of range?\n",
    "# For this case:\n",
    "# Array[3] \n",
    "# Python will throw an error.\n",
    "# But array in C++ won't!!!\n",
    "# Instead, it returns you the \"element\" at the address\n",
    "# where the element with index 3 would PRESUMABLY appear...\n",
    "# Therefore, it may return any number, including stuff like -1495205289.\n",
    "\n",
    "# 2. Extend?\n",
    "# No, arrays in C++ CAN'T extend. The size is fixed since created.\n",
    "\n",
    "# 3. Extend???\n",
    "# Well, there is an alternative way to \"extend\" arrays in C++.\n",
    "# That is to create a new array with larger size, COPY all the elements\n",
    "# and DESTROY the original one.\n",
    "# At last, it gives you the new array, claiming it to be the extended one...\n",
    "\n",
    "myList = [1]\n",
    "print(id(myList))\n",
    "for i in range(10000):\n",
    "    myList.append(i)\n",
    "print(id(myList)) # The address is not changed!\n",
    "\n",
    "# See the next note for more information.\n",
    "\n",
    "\n",
    "\n"
   ]
  },
  {
   "cell_type": "markdown",
   "id": "117c0864",
   "metadata": {},
   "source": [
    "* Implementation"
   ]
  },
  {
   "cell_type": "code",
   "execution_count": 17,
   "id": "ab842fb8",
   "metadata": {},
   "outputs": [
    {
     "name": "stdout",
     "output_type": "stream",
     "text": [
      "4369096768 4369096768 4369096768 4382227392 4382031296\n"
     ]
    }
   ],
   "source": [
    "# Variables are references,\n",
    "# like tags or stickers of some objects.\n",
    "# As if \"pointers\" in C/C++.\n",
    "\n",
    "def myFunc(n):\n",
    "    pass\n",
    "\n",
    "myList = [1,\"2\",[3],(4),myFunc]\n",
    "myList.append(myList)\n",
    "\n",
    "a = myList\n",
    "b = myList\n",
    "c = a\n",
    "\n",
    "d = [1,\"2\",[3],(4),myFunc,myList] # Create a new list, though with exactly the same elements.\n",
    "e = myList[:] # List slicing will create a new list and return it.\n",
    "print(id(a),id(b),id(c),id(d),id(e)) # Same, same, same, different,different.\n",
    "\n"
   ]
  },
  {
   "cell_type": "markdown",
   "id": "2632af30",
   "metadata": {},
   "source": [
    "* Memory in python"
   ]
  },
  {
   "cell_type": "code",
   "execution_count": 18,
   "id": "8856424e",
   "metadata": {},
   "outputs": [
    {
     "name": "stdout",
     "output_type": "stream",
     "text": [
      "4323977536|4323977568|4323977600|4323977632|\n",
      "5\n",
      "4323977536|4323977568|4323977600|4323977632|\n",
      "[1, 2, 3, 4]\n",
      "4323977504|4323977536|4323977568|4323977600|4323977632|\n",
      "[0, 1, 2, 3, 4]\n",
      "4323977504|4323977536|4323977568|4323977600|4323977632|4323977504|\n",
      "[0, 1, 2, 3, 4, 0]\n"
     ]
    }
   ],
   "source": [
    "import ctypes\n",
    "\n",
    "def showListID(l):\n",
    "    for i in l:\n",
    "        print(id(i),end = '|')\n",
    "    print()\n",
    "\n",
    "def get_value(address):\n",
    "    val = ctypes.cast(address,ctypes.py_object).value\n",
    "    print(val)\n",
    "\n",
    "l = [1,2,3,4]\n",
    "showListID(l) # An Arithmetic Sequence\n",
    "# Get the value stored in the address where the next element will presumably appear.\n",
    "next_address = 2*id(l[-1])-id(l[-2]) \n",
    "get_value(next_address)\n",
    "\n",
    "showListID(l)\n",
    "print(l)\n",
    "l.insert(0,0)\n",
    "showListID(l)\n",
    "print(l)\n",
    "\n",
    "# Different elements referring to the same object are of the same address.\n",
    "# Like the two \"0\"s here.\n",
    "l.append(0)\n",
    "showListID(l)\n",
    "print(l)\n",
    "\n",
    "\n"
   ]
  },
  {
   "cell_type": "markdown",
   "id": "1a9eb84b",
   "metadata": {},
   "source": [
    "* List operations 1"
   ]
  },
  {
   "cell_type": "code",
   "execution_count": 19,
   "id": "b359bdac",
   "metadata": {},
   "outputs": [
    {
     "name": "stdout",
     "output_type": "stream",
     "text": [
      "[1, 2, 3, [4, 5, 6], 4, 5, 6]\n",
      "False\n",
      "[0, 1, 2, 3, [4, 5, 6], 4, 5, 6]\n",
      "[6, 5, 4, [4, 5, 6], 3, 2, 1, 0]\n",
      "[4, 5, 6]\n",
      "[6, 5, 4]\n",
      "2\n"
     ]
    }
   ],
   "source": [
    "# Append & Extend\n",
    "l = [1,2,3]\n",
    "l2 = [4,5,6]\n",
    "# Append\n",
    "# Adding the whole list to it, the argument can be any object.\n",
    "l.append(l2) \n",
    "# Extend\n",
    "# Concatenating(Connecting) the two sequences\n",
    "# The argument can only be a iterable sequence\n",
    "l.extend(l2) \n",
    "print(l)\n",
    "\n",
    "# copy\n",
    "# Return a copy of the list\n",
    "l3 = l.copy()\n",
    "print(id(l3)==id(l)) # l3 is an independent list\n",
    "\n",
    "# insert\n",
    "# Usage: list.insert(__index,__object)\n",
    "l.insert(-100,0) \n",
    "print(l)\n",
    "\n",
    "# reverse\n",
    "l.reverse()\n",
    "print(l)\n",
    "\n",
    "# sort\n",
    "# Only applicable when all the elements can be compared.\n",
    "l2.sort()\n",
    "print(l2)\n",
    "\n",
    "# sorted\n",
    "# This is NOT a method of list!\n",
    "# Therefore, it will not change the list itself.\n",
    "# Instead, it will return a reverse list.\n",
    "l3 = sorted(l2,reverse = True)\n",
    "print(l3)\n",
    "\n",
    "# index\n",
    "# Return the index of the first item with the specified value\n",
    "print(l2.index(6))\n",
    "\n"
   ]
  },
  {
   "cell_type": "markdown",
   "id": "54cfda4b",
   "metadata": {},
   "source": [
    "* List operations 2"
   ]
  },
  {
   "cell_type": "code",
   "execution_count": 20,
   "id": "9ad38b23",
   "metadata": {},
   "outputs": [
    {
     "name": "stdout",
     "output_type": "stream",
     "text": [
      "[1, 2, 3, 1, 2, 3, 1, 2, 3, 1, 2, 3, 1, 2, 3, 1, 2, 3, 1, 2, 3, 1, 2, 3, 1, 2, 3, 1, 2, 3, 1, 2, 3, 1, 2, 3, 1, 2, 3, 1, 2, 3, 1, 2, 3, 1, 2, 3, 1, 2, 3, 1, 2, 3, 1, 2, 3, 1, 2, 3, 1, 2, 3, 1, 2, 3, 1, 2, 3, 1, 2, 3, 1, 2, 3, 1, 2, 3, 1, 2, 3, 1, 2, 3, 1, 2, 3, 1, 2, 3, 1, 2, 3, 1, 2, 3, 1, 2, 3, 1]\n",
      "Out of range!\n"
     ]
    }
   ],
   "source": [
    "myList = [1,2,3]\n",
    "\n",
    "# Modifying list while iterating....\n",
    "for i in myList:\n",
    "    myList.append(i)\n",
    "    if (len(myList) == 100):\n",
    "        break\n",
    "print(myList)\n",
    "\n",
    "myList = [1,2,3,4,5,6,7,8,9]\n",
    "\n",
    "# len(myList) will NOT be recounted during iteration!\n",
    "try:\n",
    "    for i in range(0,len(myList)):\n",
    "        del(myList[i])\n",
    "except:\n",
    "    print(\"Out of range!\")\n",
    "\n",
    "\n"
   ]
  },
  {
   "cell_type": "markdown",
   "id": "8954e9f6",
   "metadata": {},
   "source": [
    "* Tuple joke"
   ]
  },
  {
   "cell_type": "code",
   "execution_count": 21,
   "id": "127b58fc",
   "metadata": {},
   "outputs": [
    {
     "name": "stdout",
     "output_type": "stream",
     "text": [
      "(1, 2, 3, [4, 5])\n",
      "Tuple is immutable!!!\n",
      "(1, 2, 3, [4, 5, 6])\n"
     ]
    }
   ],
   "source": [
    "# Python Joke: Tuple is IMMUTABLE!!!\n",
    "\n",
    "myList = [4]\n",
    "\n",
    "myTuple = (1,2,3,myList) # Tuple is IMMUTABLE!\n",
    "myTuple[3].append(5)\n",
    "print(myTuple) # Tuple is immutable?\n",
    "\n",
    "try:\n",
    "    myTuple[3] += [6]\n",
    "except:\n",
    "    print(\"Tuple is immutable!!!\") # Tuple is IMMUTABLE!!\n",
    "    \n",
    "print(myTuple) # Wait, why it changes?"
   ]
  }
 ],
 "metadata": {
  "kernelspec": {
   "display_name": "Python 3 (ipykernel)",
   "language": "python",
   "name": "python3"
  },
  "language_info": {
   "codemirror_mode": {
    "name": "ipython",
    "version": 3
   },
   "file_extension": ".py",
   "mimetype": "text/x-python",
   "name": "python",
   "nbconvert_exporter": "python",
   "pygments_lexer": "ipython3",
   "version": "3.11.0"
  },
  "vscode": {
   "interpreter": {
    "hash": "aee8b7b246df8f9039afb4144a1f6fd8d2ca17a180786b69acc140d282b71a49"
   }
  }
 },
 "nbformat": 4,
 "nbformat_minor": 5
}
