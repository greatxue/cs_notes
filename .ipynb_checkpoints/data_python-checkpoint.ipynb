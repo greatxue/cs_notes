{
 "cells": [
  {
   "cell_type": "markdown",
   "metadata": {},
   "source": [
    "# Data Processing with Python\n",
    "- - -\n",
    "author: Kevin Shuey  \n",
    "title: Notes for Data Processing with Python  \n",
    "date: 2023-05-06\n",
    "- - -"
   ]
  },
  {
   "cell_type": "markdown",
   "metadata": {},
   "source": [
    "## PREFACE\n",
    "### Data Science\n",
    "The data science is the skills of\n",
    "+ a *statistician* who knows modeling and summarizing datasets.\n",
    "+ a *computer scientist* who stores, processes and visulizes data with algorithm.\n",
    "+ a *domain expertise* who could formulate questions and put them in context."
   ]
  },
  {
   "cell_type": "markdown",
   "metadata": {},
   "source": [
    "## PART I Jupyter\n",
    "### Chapter 1\n"
   ]
  }
 ],
 "metadata": {
  "kernelspec": {
   "display_name": "Python 3 (ipykernel)",
   "language": "python",
   "name": "python3"
  },
  "language_info": {
   "codemirror_mode": {
    "name": "ipython",
    "version": 3
   },
   "file_extension": ".py",
   "mimetype": "text/x-python",
   "name": "python",
   "nbconvert_exporter": "python",
   "pygments_lexer": "ipython3",
   "version": "3.11.0"
  }
 },
 "nbformat": 4,
 "nbformat_minor": 2
}
